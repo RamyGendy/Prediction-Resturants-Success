{
 "cells": [
  {
   "cell_type": "code",
   "execution_count": 1,
   "id": "b047d761",
   "metadata": {
    "_cell_guid": "b1076dfc-b9ad-4769-8c92-a6c4dae69d19",
    "_uuid": "8f2839f25d086af736a60e9eeb907d3b93b6e0e5",
    "execution": {
     "iopub.execute_input": "2023-05-18T17:43:07.566019Z",
     "iopub.status.busy": "2023-05-18T17:43:07.565084Z",
     "iopub.status.idle": "2023-05-18T17:43:07.588022Z",
     "shell.execute_reply": "2023-05-18T17:43:07.586578Z"
    },
    "papermill": {
     "duration": 0.034398,
     "end_time": "2023-05-18T17:43:07.590855",
     "exception": false,
     "start_time": "2023-05-18T17:43:07.556457",
     "status": "completed"
    },
    "tags": []
   },
   "outputs": [
    {
     "name": "stdout",
     "output_type": "stream",
     "text": [
      "/kaggle/input/zomato-bangalore-restaurants/zomato.csv\n"
     ]
    }
   ],
   "source": [
    "# This Python 3 environment comes with many helpful analytics libraries installed\n",
    "# It is defined by the kaggle/python Docker image: https://github.com/kaggle/docker-python\n",
    "# For example, here's several helpful packages to load\n",
    "\n",
    "import numpy as np # linear algebra\n",
    "import pandas as pd # data processing, CSV file I/O (e.g. pd.read_csv)\n",
    "\n",
    "# Input data files are available in the read-only \"../input/\" directory\n",
    "# For example, running this (by clicking run or pressing Shift+Enter) will list all files under the input directory\n",
    "\n",
    "import os\n",
    "for dirname, _, filenames in os.walk('/kaggle/input'):\n",
    "    for filename in filenames:\n",
    "        print(os.path.join(dirname, filename))\n",
    "\n",
    "# You can write up to 20GB to the current directory (/kaggle/working/) that gets preserved as output when you create a version using \"Save & Run All\" \n",
    "# You can also write temporary files to /kaggle/temp/, but they won't be saved outside of the current session"
   ]
  },
  {
   "cell_type": "code",
   "execution_count": 2,
   "id": "5d82090a",
   "metadata": {
    "execution": {
     "iopub.execute_input": "2023-05-18T17:43:07.605820Z",
     "iopub.status.busy": "2023-05-18T17:43:07.605412Z",
     "iopub.status.idle": "2023-05-18T17:43:19.789413Z",
     "shell.execute_reply": "2023-05-18T17:43:19.788131Z"
    },
    "papermill": {
     "duration": 12.19546,
     "end_time": "2023-05-18T17:43:19.792945",
     "exception": false,
     "start_time": "2023-05-18T17:43:07.597485",
     "status": "completed"
    },
    "tags": []
   },
   "outputs": [],
   "source": [
    "# Reading data\n",
    "df = pd.read_csv(\"../input/zomato-bangalore-restaurants/zomato.csv\")"
   ]
  },
  {
   "cell_type": "code",
   "execution_count": 3,
   "id": "822f0410",
   "metadata": {
    "execution": {
     "iopub.execute_input": "2023-05-18T17:43:19.808049Z",
     "iopub.status.busy": "2023-05-18T17:43:19.807648Z",
     "iopub.status.idle": "2023-05-18T17:43:19.848061Z",
     "shell.execute_reply": "2023-05-18T17:43:19.846931Z"
    },
    "papermill": {
     "duration": 0.051366,
     "end_time": "2023-05-18T17:43:19.850968",
     "exception": false,
     "start_time": "2023-05-18T17:43:19.799602",
     "status": "completed"
    },
    "tags": []
   },
   "outputs": [
    {
     "data": {
      "text/html": [
       "<div>\n",
       "<style scoped>\n",
       "    .dataframe tbody tr th:only-of-type {\n",
       "        vertical-align: middle;\n",
       "    }\n",
       "\n",
       "    .dataframe tbody tr th {\n",
       "        vertical-align: top;\n",
       "    }\n",
       "\n",
       "    .dataframe thead th {\n",
       "        text-align: right;\n",
       "    }\n",
       "</style>\n",
       "<table border=\"1\" class=\"dataframe\">\n",
       "  <thead>\n",
       "    <tr style=\"text-align: right;\">\n",
       "      <th></th>\n",
       "      <th>url</th>\n",
       "      <th>address</th>\n",
       "      <th>name</th>\n",
       "      <th>online_order</th>\n",
       "      <th>book_table</th>\n",
       "      <th>rate</th>\n",
       "      <th>votes</th>\n",
       "      <th>phone</th>\n",
       "      <th>location</th>\n",
       "      <th>rest_type</th>\n",
       "      <th>dish_liked</th>\n",
       "      <th>cuisines</th>\n",
       "      <th>approx_cost(for two people)</th>\n",
       "      <th>reviews_list</th>\n",
       "      <th>menu_item</th>\n",
       "      <th>listed_in(type)</th>\n",
       "      <th>listed_in(city)</th>\n",
       "    </tr>\n",
       "  </thead>\n",
       "  <tbody>\n",
       "    <tr>\n",
       "      <th>0</th>\n",
       "      <td>https://www.zomato.com/bangalore/jalsa-banasha...</td>\n",
       "      <td>942, 21st Main Road, 2nd Stage, Banashankari, ...</td>\n",
       "      <td>Jalsa</td>\n",
       "      <td>Yes</td>\n",
       "      <td>Yes</td>\n",
       "      <td>4.1/5</td>\n",
       "      <td>775</td>\n",
       "      <td>080 42297555\\r\\n+91 9743772233</td>\n",
       "      <td>Banashankari</td>\n",
       "      <td>Casual Dining</td>\n",
       "      <td>Pasta, Lunch Buffet, Masala Papad, Paneer Laja...</td>\n",
       "      <td>North Indian, Mughlai, Chinese</td>\n",
       "      <td>800</td>\n",
       "      <td>[('Rated 4.0', 'RATED\\n  A beautiful place to ...</td>\n",
       "      <td>[]</td>\n",
       "      <td>Buffet</td>\n",
       "      <td>Banashankari</td>\n",
       "    </tr>\n",
       "    <tr>\n",
       "      <th>1</th>\n",
       "      <td>https://www.zomato.com/bangalore/spice-elephan...</td>\n",
       "      <td>2nd Floor, 80 Feet Road, Near Big Bazaar, 6th ...</td>\n",
       "      <td>Spice Elephant</td>\n",
       "      <td>Yes</td>\n",
       "      <td>No</td>\n",
       "      <td>4.1/5</td>\n",
       "      <td>787</td>\n",
       "      <td>080 41714161</td>\n",
       "      <td>Banashankari</td>\n",
       "      <td>Casual Dining</td>\n",
       "      <td>Momos, Lunch Buffet, Chocolate Nirvana, Thai G...</td>\n",
       "      <td>Chinese, North Indian, Thai</td>\n",
       "      <td>800</td>\n",
       "      <td>[('Rated 4.0', 'RATED\\n  Had been here for din...</td>\n",
       "      <td>[]</td>\n",
       "      <td>Buffet</td>\n",
       "      <td>Banashankari</td>\n",
       "    </tr>\n",
       "    <tr>\n",
       "      <th>2</th>\n",
       "      <td>https://www.zomato.com/SanchurroBangalore?cont...</td>\n",
       "      <td>1112, Next to KIMS Medical College, 17th Cross...</td>\n",
       "      <td>San Churro Cafe</td>\n",
       "      <td>Yes</td>\n",
       "      <td>No</td>\n",
       "      <td>3.8/5</td>\n",
       "      <td>918</td>\n",
       "      <td>+91 9663487993</td>\n",
       "      <td>Banashankari</td>\n",
       "      <td>Cafe, Casual Dining</td>\n",
       "      <td>Churros, Cannelloni, Minestrone Soup, Hot Choc...</td>\n",
       "      <td>Cafe, Mexican, Italian</td>\n",
       "      <td>800</td>\n",
       "      <td>[('Rated 3.0', \"RATED\\n  Ambience is not that ...</td>\n",
       "      <td>[]</td>\n",
       "      <td>Buffet</td>\n",
       "      <td>Banashankari</td>\n",
       "    </tr>\n",
       "    <tr>\n",
       "      <th>3</th>\n",
       "      <td>https://www.zomato.com/bangalore/addhuri-udupi...</td>\n",
       "      <td>1st Floor, Annakuteera, 3rd Stage, Banashankar...</td>\n",
       "      <td>Addhuri Udupi Bhojana</td>\n",
       "      <td>No</td>\n",
       "      <td>No</td>\n",
       "      <td>3.7/5</td>\n",
       "      <td>88</td>\n",
       "      <td>+91 9620009302</td>\n",
       "      <td>Banashankari</td>\n",
       "      <td>Quick Bites</td>\n",
       "      <td>Masala Dosa</td>\n",
       "      <td>South Indian, North Indian</td>\n",
       "      <td>300</td>\n",
       "      <td>[('Rated 4.0', \"RATED\\n  Great food and proper...</td>\n",
       "      <td>[]</td>\n",
       "      <td>Buffet</td>\n",
       "      <td>Banashankari</td>\n",
       "    </tr>\n",
       "    <tr>\n",
       "      <th>4</th>\n",
       "      <td>https://www.zomato.com/bangalore/grand-village...</td>\n",
       "      <td>10, 3rd Floor, Lakshmi Associates, Gandhi Baza...</td>\n",
       "      <td>Grand Village</td>\n",
       "      <td>No</td>\n",
       "      <td>No</td>\n",
       "      <td>3.8/5</td>\n",
       "      <td>166</td>\n",
       "      <td>+91 8026612447\\r\\n+91 9901210005</td>\n",
       "      <td>Basavanagudi</td>\n",
       "      <td>Casual Dining</td>\n",
       "      <td>Panipuri, Gol Gappe</td>\n",
       "      <td>North Indian, Rajasthani</td>\n",
       "      <td>600</td>\n",
       "      <td>[('Rated 4.0', 'RATED\\n  Very good restaurant ...</td>\n",
       "      <td>[]</td>\n",
       "      <td>Buffet</td>\n",
       "      <td>Banashankari</td>\n",
       "    </tr>\n",
       "  </tbody>\n",
       "</table>\n",
       "</div>"
      ],
      "text/plain": [
       "                                                 url  \\\n",
       "0  https://www.zomato.com/bangalore/jalsa-banasha...   \n",
       "1  https://www.zomato.com/bangalore/spice-elephan...   \n",
       "2  https://www.zomato.com/SanchurroBangalore?cont...   \n",
       "3  https://www.zomato.com/bangalore/addhuri-udupi...   \n",
       "4  https://www.zomato.com/bangalore/grand-village...   \n",
       "\n",
       "                                             address                   name  \\\n",
       "0  942, 21st Main Road, 2nd Stage, Banashankari, ...                  Jalsa   \n",
       "1  2nd Floor, 80 Feet Road, Near Big Bazaar, 6th ...         Spice Elephant   \n",
       "2  1112, Next to KIMS Medical College, 17th Cross...        San Churro Cafe   \n",
       "3  1st Floor, Annakuteera, 3rd Stage, Banashankar...  Addhuri Udupi Bhojana   \n",
       "4  10, 3rd Floor, Lakshmi Associates, Gandhi Baza...          Grand Village   \n",
       "\n",
       "  online_order book_table   rate  votes                             phone  \\\n",
       "0          Yes        Yes  4.1/5    775    080 42297555\\r\\n+91 9743772233   \n",
       "1          Yes         No  4.1/5    787                      080 41714161   \n",
       "2          Yes         No  3.8/5    918                    +91 9663487993   \n",
       "3           No         No  3.7/5     88                    +91 9620009302   \n",
       "4           No         No  3.8/5    166  +91 8026612447\\r\\n+91 9901210005   \n",
       "\n",
       "       location            rest_type  \\\n",
       "0  Banashankari        Casual Dining   \n",
       "1  Banashankari        Casual Dining   \n",
       "2  Banashankari  Cafe, Casual Dining   \n",
       "3  Banashankari          Quick Bites   \n",
       "4  Basavanagudi        Casual Dining   \n",
       "\n",
       "                                          dish_liked  \\\n",
       "0  Pasta, Lunch Buffet, Masala Papad, Paneer Laja...   \n",
       "1  Momos, Lunch Buffet, Chocolate Nirvana, Thai G...   \n",
       "2  Churros, Cannelloni, Minestrone Soup, Hot Choc...   \n",
       "3                                        Masala Dosa   \n",
       "4                                Panipuri, Gol Gappe   \n",
       "\n",
       "                         cuisines approx_cost(for two people)  \\\n",
       "0  North Indian, Mughlai, Chinese                         800   \n",
       "1     Chinese, North Indian, Thai                         800   \n",
       "2          Cafe, Mexican, Italian                         800   \n",
       "3      South Indian, North Indian                         300   \n",
       "4        North Indian, Rajasthani                         600   \n",
       "\n",
       "                                        reviews_list menu_item  \\\n",
       "0  [('Rated 4.0', 'RATED\\n  A beautiful place to ...        []   \n",
       "1  [('Rated 4.0', 'RATED\\n  Had been here for din...        []   \n",
       "2  [('Rated 3.0', \"RATED\\n  Ambience is not that ...        []   \n",
       "3  [('Rated 4.0', \"RATED\\n  Great food and proper...        []   \n",
       "4  [('Rated 4.0', 'RATED\\n  Very good restaurant ...        []   \n",
       "\n",
       "  listed_in(type) listed_in(city)  \n",
       "0          Buffet    Banashankari  \n",
       "1          Buffet    Banashankari  \n",
       "2          Buffet    Banashankari  \n",
       "3          Buffet    Banashankari  \n",
       "4          Buffet    Banashankari  "
      ]
     },
     "execution_count": 3,
     "metadata": {},
     "output_type": "execute_result"
    }
   ],
   "source": [
    "# Exploring data\n",
    "df.head()"
   ]
  },
  {
   "cell_type": "code",
   "execution_count": 4,
   "id": "8e744405",
   "metadata": {
    "execution": {
     "iopub.execute_input": "2023-05-18T17:43:19.866621Z",
     "iopub.status.busy": "2023-05-18T17:43:19.866089Z",
     "iopub.status.idle": "2023-05-18T17:43:19.873657Z",
     "shell.execute_reply": "2023-05-18T17:43:19.872385Z"
    },
    "papermill": {
     "duration": 0.018455,
     "end_time": "2023-05-18T17:43:19.876216",
     "exception": false,
     "start_time": "2023-05-18T17:43:19.857761",
     "status": "completed"
    },
    "tags": []
   },
   "outputs": [
    {
     "data": {
      "text/plain": [
       "Index(['url', 'address', 'name', 'online_order', 'book_table', 'rate', 'votes',\n",
       "       'phone', 'location', 'rest_type', 'dish_liked', 'cuisines',\n",
       "       'approx_cost(for two people)', 'reviews_list', 'menu_item',\n",
       "       'listed_in(type)', 'listed_in(city)'],\n",
       "      dtype='object')"
      ]
     },
     "execution_count": 4,
     "metadata": {},
     "output_type": "execute_result"
    }
   ],
   "source": [
    "# Exploring features\n",
    "df.columns"
   ]
  },
  {
   "cell_type": "code",
   "execution_count": 5,
   "id": "af136d40",
   "metadata": {
    "execution": {
     "iopub.execute_input": "2023-05-18T17:43:19.891979Z",
     "iopub.status.busy": "2023-05-18T17:43:19.891601Z",
     "iopub.status.idle": "2023-05-18T17:43:19.898594Z",
     "shell.execute_reply": "2023-05-18T17:43:19.897333Z"
    },
    "papermill": {
     "duration": 0.017676,
     "end_time": "2023-05-18T17:43:19.900933",
     "exception": false,
     "start_time": "2023-05-18T17:43:19.883257",
     "status": "completed"
    },
    "tags": []
   },
   "outputs": [
    {
     "data": {
      "text/plain": [
       "(51717, 17)"
      ]
     },
     "execution_count": 5,
     "metadata": {},
     "output_type": "execute_result"
    }
   ],
   "source": [
    "# Exploring dimensions\n",
    "df.shape"
   ]
  },
  {
   "cell_type": "code",
   "execution_count": 6,
   "id": "2b0ad9a2",
   "metadata": {
    "execution": {
     "iopub.execute_input": "2023-05-18T17:43:19.916936Z",
     "iopub.status.busy": "2023-05-18T17:43:19.916538Z",
     "iopub.status.idle": "2023-05-18T17:43:20.206562Z",
     "shell.execute_reply": "2023-05-18T17:43:20.205169Z"
    },
    "papermill": {
     "duration": 0.30135,
     "end_time": "2023-05-18T17:43:20.209425",
     "exception": false,
     "start_time": "2023-05-18T17:43:19.908075",
     "status": "completed"
    },
    "tags": []
   },
   "outputs": [
    {
     "name": "stdout",
     "output_type": "stream",
     "text": [
      "<class 'pandas.core.frame.DataFrame'>\n",
      "RangeIndex: 51717 entries, 0 to 51716\n",
      "Data columns (total 17 columns):\n",
      " #   Column                       Non-Null Count  Dtype \n",
      "---  ------                       --------------  ----- \n",
      " 0   url                          51717 non-null  object\n",
      " 1   address                      51717 non-null  object\n",
      " 2   name                         51717 non-null  object\n",
      " 3   online_order                 51717 non-null  object\n",
      " 4   book_table                   51717 non-null  object\n",
      " 5   rate                         43942 non-null  object\n",
      " 6   votes                        51717 non-null  int64 \n",
      " 7   phone                        50509 non-null  object\n",
      " 8   location                     51696 non-null  object\n",
      " 9   rest_type                    51490 non-null  object\n",
      " 10  dish_liked                   23639 non-null  object\n",
      " 11  cuisines                     51672 non-null  object\n",
      " 12  approx_cost(for two people)  51371 non-null  object\n",
      " 13  reviews_list                 51717 non-null  object\n",
      " 14  menu_item                    51717 non-null  object\n",
      " 15  listed_in(type)              51717 non-null  object\n",
      " 16  listed_in(city)              51717 non-null  object\n",
      "dtypes: int64(1), object(16)\n",
      "memory usage: 6.7+ MB\n"
     ]
    }
   ],
   "source": [
    "# Exploring information summary\n",
    "df.info()"
   ]
  },
  {
   "cell_type": "code",
   "execution_count": 7,
   "id": "3117177f",
   "metadata": {
    "execution": {
     "iopub.execute_input": "2023-05-18T17:43:20.226451Z",
     "iopub.status.busy": "2023-05-18T17:43:20.226052Z",
     "iopub.status.idle": "2023-05-18T17:43:20.248409Z",
     "shell.execute_reply": "2023-05-18T17:43:20.247317Z"
    },
    "papermill": {
     "duration": 0.03434,
     "end_time": "2023-05-18T17:43:20.251542",
     "exception": false,
     "start_time": "2023-05-18T17:43:20.217202",
     "status": "completed"
    },
    "tags": []
   },
   "outputs": [
    {
     "data": {
      "text/html": [
       "<div>\n",
       "<style scoped>\n",
       "    .dataframe tbody tr th:only-of-type {\n",
       "        vertical-align: middle;\n",
       "    }\n",
       "\n",
       "    .dataframe tbody tr th {\n",
       "        vertical-align: top;\n",
       "    }\n",
       "\n",
       "    .dataframe thead th {\n",
       "        text-align: right;\n",
       "    }\n",
       "</style>\n",
       "<table border=\"1\" class=\"dataframe\">\n",
       "  <thead>\n",
       "    <tr style=\"text-align: right;\">\n",
       "      <th></th>\n",
       "      <th>votes</th>\n",
       "    </tr>\n",
       "  </thead>\n",
       "  <tbody>\n",
       "    <tr>\n",
       "      <th>count</th>\n",
       "      <td>51717.000000</td>\n",
       "    </tr>\n",
       "    <tr>\n",
       "      <th>mean</th>\n",
       "      <td>283.697527</td>\n",
       "    </tr>\n",
       "    <tr>\n",
       "      <th>std</th>\n",
       "      <td>803.838853</td>\n",
       "    </tr>\n",
       "    <tr>\n",
       "      <th>min</th>\n",
       "      <td>0.000000</td>\n",
       "    </tr>\n",
       "    <tr>\n",
       "      <th>25%</th>\n",
       "      <td>7.000000</td>\n",
       "    </tr>\n",
       "    <tr>\n",
       "      <th>50%</th>\n",
       "      <td>41.000000</td>\n",
       "    </tr>\n",
       "    <tr>\n",
       "      <th>75%</th>\n",
       "      <td>198.000000</td>\n",
       "    </tr>\n",
       "    <tr>\n",
       "      <th>max</th>\n",
       "      <td>16832.000000</td>\n",
       "    </tr>\n",
       "  </tbody>\n",
       "</table>\n",
       "</div>"
      ],
      "text/plain": [
       "              votes\n",
       "count  51717.000000\n",
       "mean     283.697527\n",
       "std      803.838853\n",
       "min        0.000000\n",
       "25%        7.000000\n",
       "50%       41.000000\n",
       "75%      198.000000\n",
       "max    16832.000000"
      ]
     },
     "execution_count": 7,
     "metadata": {},
     "output_type": "execute_result"
    }
   ],
   "source": [
    "# Statistical summery\n",
    "df.describe()"
   ]
  },
  {
   "cell_type": "markdown",
   "id": "3770aced",
   "metadata": {
    "papermill": {
     "duration": 0.007305,
     "end_time": "2023-05-18T17:43:20.266659",
     "exception": false,
     "start_time": "2023-05-18T17:43:20.259354",
     "status": "completed"
    },
    "tags": []
   },
   "source": [
    "#### Comments:\n",
    "* "
   ]
  },
  {
   "cell_type": "markdown",
   "id": "b3a89128",
   "metadata": {
    "papermill": {
     "duration": 0.007065,
     "end_time": "2023-05-18T17:43:20.281135",
     "exception": false,
     "start_time": "2023-05-18T17:43:20.274070",
     "status": "completed"
    },
    "tags": []
   },
   "source": [
    "### Features definition:\n",
    "\n",
    "* **url**: contains the url of the restaurant in the zomato website.\n",
    "* **address:** contains the address of the restaurant in Bengaluru.\n",
    "* **name:** contains the name of the restaurant.\n",
    "* **online-order:** whether online ordering is available in the restaurant or not.\n",
    "* **book-table:** table book option available or not.\n",
    "* **rate:** contains the overall rating of the restaurant out of 5.\n",
    "* **votes:** contains total number of rating for the restaurant as of the above mentioned date.\n",
    "* **phone:** contains the phone number of the restaurant.\n",
    "* **location:** contains the neighborhood in which the restaurant is located.\n",
    "* **rest-type:** restaurant type.\n",
    "* **dish_liked:** dishes people liked in the restaurant\n",
    "* **cuisines:** food styles, separated by comma\n",
    "* **approx_cost(for two people):** contains the approximate cost for meal for two people\n",
    "* **reviews_list:** of tuples containing reviews for the restaurant, each tuple\n",
    "* **menu_item:** contains list of menus available in the restaurant\n",
    "* **listed_in(type):** type of meal\n",
    "* **listed_in(city):** contains the neighborhood in which the restaurant is listed\n"
   ]
  },
  {
   "cell_type": "markdown",
   "id": "050e83df",
   "metadata": {
    "papermill": {
     "duration": 0.007181,
     "end_time": "2023-05-18T17:43:20.295742",
     "exception": false,
     "start_time": "2023-05-18T17:43:20.288561",
     "status": "completed"
    },
    "tags": []
   },
   "source": [
    "## Data Preprocessing:"
   ]
  },
  {
   "cell_type": "code",
   "execution_count": 8,
   "id": "94395bb8",
   "metadata": {
    "execution": {
     "iopub.execute_input": "2023-05-18T17:43:20.312730Z",
     "iopub.status.busy": "2023-05-18T17:43:20.312017Z",
     "iopub.status.idle": "2023-05-18T17:43:20.578276Z",
     "shell.execute_reply": "2023-05-18T17:43:20.577047Z"
    },
    "papermill": {
     "duration": 0.277638,
     "end_time": "2023-05-18T17:43:20.580832",
     "exception": false,
     "start_time": "2023-05-18T17:43:20.303194",
     "status": "completed"
    },
    "tags": []
   },
   "outputs": [
    {
     "data": {
      "text/plain": [
       "url                                0\n",
       "address                            0\n",
       "name                               0\n",
       "online_order                       0\n",
       "book_table                         0\n",
       "rate                            7775\n",
       "votes                              0\n",
       "phone                           1208\n",
       "location                          21\n",
       "rest_type                        227\n",
       "dish_liked                     28078\n",
       "cuisines                          45\n",
       "approx_cost(for two people)      346\n",
       "reviews_list                       0\n",
       "menu_item                          0\n",
       "listed_in(type)                    0\n",
       "listed_in(city)                    0\n",
       "dtype: int64"
      ]
     },
     "execution_count": 8,
     "metadata": {},
     "output_type": "execute_result"
    }
   ],
   "source": [
    "# check for nulls\n",
    "df.isnull().sum()"
   ]
  },
  {
   "cell_type": "code",
   "execution_count": 9,
   "id": "42d009d1",
   "metadata": {
    "execution": {
     "iopub.execute_input": "2023-05-18T17:43:20.598305Z",
     "iopub.status.busy": "2023-05-18T17:43:20.597429Z",
     "iopub.status.idle": "2023-05-18T17:43:21.130391Z",
     "shell.execute_reply": "2023-05-18T17:43:21.129294Z"
    },
    "papermill": {
     "duration": 0.544203,
     "end_time": "2023-05-18T17:43:21.132841",
     "exception": false,
     "start_time": "2023-05-18T17:43:20.588638",
     "status": "completed"
    },
    "tags": []
   },
   "outputs": [
    {
     "name": "stdout",
     "output_type": "stream",
     "text": [
      "Percentage NaN values in df:\n"
     ]
    },
    {
     "data": {
      "text/plain": [
       "url                             0.00\n",
       "address                         0.00\n",
       "name                            0.00\n",
       "online_order                    0.00\n",
       "book_table                      0.00\n",
       "rate                           15.03\n",
       "votes                           0.00\n",
       "phone                           2.34\n",
       "location                        0.04\n",
       "rest_type                       0.44\n",
       "dish_liked                     54.29\n",
       "cuisines                        0.09\n",
       "approx_cost(for two people)     0.67\n",
       "reviews_list                    0.00\n",
       "menu_item                       0.00\n",
       "listed_in(type)                 0.00\n",
       "listed_in(city)                 0.00\n",
       "dtype: float64"
      ]
     },
     "execution_count": 9,
     "metadata": {},
     "output_type": "execute_result"
    }
   ],
   "source": [
    "# Nulls percentage\n",
    "print(\"Percentage NaN values in df:\")\n",
    "((df.isnull() | df.isna()).sum() * 100 / df.index.size).round(2)"
   ]
  },
  {
   "cell_type": "code",
   "execution_count": 10,
   "id": "2a5dddda",
   "metadata": {
    "execution": {
     "iopub.execute_input": "2023-05-18T17:43:21.150765Z",
     "iopub.status.busy": "2023-05-18T17:43:21.149919Z",
     "iopub.status.idle": "2023-05-18T17:43:23.243803Z",
     "shell.execute_reply": "2023-05-18T17:43:23.242703Z"
    },
    "papermill": {
     "duration": 2.105477,
     "end_time": "2023-05-18T17:43:23.246236",
     "exception": false,
     "start_time": "2023-05-18T17:43:21.140759",
     "status": "completed"
    },
    "tags": []
   },
   "outputs": [
    {
     "data": {
      "text/plain": [
       "0"
      ]
     },
     "execution_count": 10,
     "metadata": {},
     "output_type": "execute_result"
    }
   ],
   "source": [
    "#Check for Duplicates\n",
    "df.duplicated().sum()"
   ]
  },
  {
   "cell_type": "markdown",
   "id": "b5bb0277",
   "metadata": {
    "papermill": {
     "duration": 0.007697,
     "end_time": "2023-05-18T17:43:23.262017",
     "exception": false,
     "start_time": "2023-05-18T17:43:23.254320",
     "status": "completed"
    },
    "tags": []
   },
   "source": [
    "- Although there is no dublicated data but there aren't 51k restaurants in Bengaluru. \n",
    "- **Then, How 51K (51k different link for each restaurant) restaurants were listed in the zomato website?**\n",
    "\n",
    "- **The Answer is:** the data set was scraped individually for each category. Ex.: Buffet, dineout, pubs, bars, delivery, nightlife, etc. so it may have happened a restaurant was mentioned in more than one category."
   ]
  },
  {
   "cell_type": "markdown",
   "id": "2f93842b",
   "metadata": {
    "papermill": {
     "duration": 0.00762,
     "end_time": "2023-05-18T17:43:23.277707",
     "exception": false,
     "start_time": "2023-05-18T17:43:23.270087",
     "status": "completed"
    },
    "tags": []
   },
   "source": [
    "### Univariate Analysis"
   ]
  },
  {
   "cell_type": "code",
   "execution_count": 11,
   "id": "6779fe01",
   "metadata": {
    "execution": {
     "iopub.execute_input": "2023-05-18T17:43:23.295720Z",
     "iopub.status.busy": "2023-05-18T17:43:23.295028Z",
     "iopub.status.idle": "2023-05-18T17:43:23.314923Z",
     "shell.execute_reply": "2023-05-18T17:43:23.313487Z"
    },
    "papermill": {
     "duration": 0.03192,
     "end_time": "2023-05-18T17:43:23.317631",
     "exception": false,
     "start_time": "2023-05-18T17:43:23.285711",
     "status": "completed"
    },
    "tags": []
   },
   "outputs": [
    {
     "name": "stdout",
     "output_type": "stream",
     "text": [
      "Total number of observations = 51717\n",
      "Total number of unique resturant names = 8792\n",
      "Total number of dublicated resturants names = 42925\n",
      "Are the total sum of both unique resturant names and dublicated names equal to total sum of observations ? True\n"
     ]
    }
   ],
   "source": [
    "# Number of repeated restaurants observations in different category features \n",
    "dub_res = df.duplicated(subset='name').sum()\n",
    "# Number of resturants\n",
    "uni_res = df.name.unique().size\n",
    "# total number of obsercations\n",
    "total_obs= df.shape[0]\n",
    "print(\"Total number of observations =\", total_obs)\n",
    "print(\"Total number of unique resturant names =\", uni_res)\n",
    "print(\"Total number of dublicated resturants names =\", dub_res)\n",
    "# validate observations\n",
    "print(\"Are the total sum of both unique resturant names and dublicated names equal to total sum of observations ?\",\n",
    "      dub_res + uni_res == total_obs)"
   ]
  },
  {
   "cell_type": "code",
   "execution_count": 12,
   "id": "6ada0ac1",
   "metadata": {
    "execution": {
     "iopub.execute_input": "2023-05-18T17:43:23.335790Z",
     "iopub.status.busy": "2023-05-18T17:43:23.335402Z",
     "iopub.status.idle": "2023-05-18T17:43:23.359995Z",
     "shell.execute_reply": "2023-05-18T17:43:23.358856Z"
    },
    "papermill": {
     "duration": 0.036199,
     "end_time": "2023-05-18T17:43:23.362162",
     "exception": false,
     "start_time": "2023-05-18T17:43:23.325963",
     "status": "completed"
    },
    "tags": []
   },
   "outputs": [
    {
     "data": {
      "text/plain": [
       "Delivery Only                                                                               128\n",
       "14th Main, 4th Sector, HSR, Bangalore                                                        71\n",
       "The Ritz-Carlton, 99, Residency Road, Bangalore                                              61\n",
       "Citrus Hotels, 34, Cunningham Road, Bangalore                                                53\n",
       "Conrad Bengaluru, Kensington Road, Ulsoor, Bangalore                                         49\n",
       "                                                                                           ... \n",
       "9/53, Near Kanti Sweets, 5th Main Road, Ganganagar, RT Nagar, Bangalore                       1\n",
       "94 Neeladri Nagar, 14th Cross Neeladri Main Road, Doddatogur, Electronic City, Bangalore      1\n",
       "12, Rahmathnagar Bus Stop, RT Nagar, Bangalore                                                1\n",
       "SJR Equinox, Opposite Velankani Gate 3, Phase1, Electronic City, Bangalore                    1\n",
       "B K Rama Reddy, Virat Nagar Circle, Bommanahalli, Bangalore                                   1\n",
       "Name: address, Length: 11495, dtype: int64"
      ]
     },
     "execution_count": 12,
     "metadata": {},
     "output_type": "execute_result"
    }
   ],
   "source": [
    "# exploring features: Restaurant address\n",
    "df.address.value_counts()"
   ]
  },
  {
   "cell_type": "code",
   "execution_count": 13,
   "id": "18df5e6c",
   "metadata": {
    "execution": {
     "iopub.execute_input": "2023-05-18T17:43:23.381535Z",
     "iopub.status.busy": "2023-05-18T17:43:23.380456Z",
     "iopub.status.idle": "2023-05-18T17:43:23.396754Z",
     "shell.execute_reply": "2023-05-18T17:43:23.395775Z"
    },
    "papermill": {
     "duration": 0.029005,
     "end_time": "2023-05-18T17:43:23.399451",
     "exception": false,
     "start_time": "2023-05-18T17:43:23.370446",
     "status": "completed"
    },
    "tags": []
   },
   "outputs": [
    {
     "data": {
      "text/plain": [
       "Yes    30444\n",
       "No     21273\n",
       "Name: online_order, dtype: int64"
      ]
     },
     "execution_count": 13,
     "metadata": {},
     "output_type": "execute_result"
    }
   ],
   "source": [
    "df.online_order.value_counts()"
   ]
  },
  {
   "cell_type": "code",
   "execution_count": null,
   "id": "3df17add",
   "metadata": {
    "papermill": {
     "duration": 0.008273,
     "end_time": "2023-05-18T17:43:23.416196",
     "exception": false,
     "start_time": "2023-05-18T17:43:23.407923",
     "status": "completed"
    },
    "tags": []
   },
   "outputs": [],
   "source": []
  }
 ],
 "metadata": {
  "kernelspec": {
   "display_name": "Python 3",
   "language": "python",
   "name": "python3"
  },
  "language_info": {
   "codemirror_mode": {
    "name": "ipython",
    "version": 3
   },
   "file_extension": ".py",
   "mimetype": "text/x-python",
   "name": "python",
   "nbconvert_exporter": "python",
   "pygments_lexer": "ipython3",
   "version": "3.10.10"
  },
  "papermill": {
   "default_parameters": {},
   "duration": 30.241033,
   "end_time": "2023-05-18T17:43:24.348032",
   "environment_variables": {},
   "exception": null,
   "input_path": "__notebook__.ipynb",
   "output_path": "__notebook__.ipynb",
   "parameters": {},
   "start_time": "2023-05-18T17:42:54.106999",
   "version": "2.4.0"
  }
 },
 "nbformat": 4,
 "nbformat_minor": 5
}
