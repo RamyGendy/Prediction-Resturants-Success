{
 "cells": [
  {
   "cell_type": "code",
   "execution_count": 1,
   "id": "b19401fd",
   "metadata": {
    "_cell_guid": "b1076dfc-b9ad-4769-8c92-a6c4dae69d19",
    "_uuid": "8f2839f25d086af736a60e9eeb907d3b93b6e0e5",
    "execution": {
     "iopub.execute_input": "2023-05-19T00:10:46.518807Z",
     "iopub.status.busy": "2023-05-19T00:10:46.518458Z",
     "iopub.status.idle": "2023-05-19T00:10:46.532981Z",
     "shell.execute_reply": "2023-05-19T00:10:46.532207Z"
    },
    "papermill": {
     "duration": 0.024347,
     "end_time": "2023-05-19T00:10:46.535071",
     "exception": false,
     "start_time": "2023-05-19T00:10:46.510724",
     "status": "completed"
    },
    "tags": []
   },
   "outputs": [
    {
     "name": "stdout",
     "output_type": "stream",
     "text": [
      "/kaggle/input/zomato-bangalore-restaurants/zomato.csv\n"
     ]
    }
   ],
   "source": [
    "# This Python 3 environment comes with many helpful analytics libraries installed\n",
    "# It is defined by the kaggle/python Docker image: https://github.com/kaggle/docker-python\n",
    "# For example, here's several helpful packages to load\n",
    "\n",
    "import numpy as np # linear algebra\n",
    "import pandas as pd # data processing, CSV file I/O (e.g. pd.read_csv)\n",
    "\n",
    "# Input data files are available in the read-only \"../input/\" directory\n",
    "# For example, running this (by clicking run or pressing Shift+Enter) will list all files under the input directory\n",
    "\n",
    "import os\n",
    "for dirname, _, filenames in os.walk('/kaggle/input'):\n",
    "    for filename in filenames:\n",
    "        print(os.path.join(dirname, filename))\n",
    "\n",
    "# You can write up to 20GB to the current directory (/kaggle/working/) that gets preserved as output when you create a version using \"Save & Run All\" \n",
    "# You can also write temporary files to /kaggle/temp/, but they won't be saved outside of the current session"
   ]
  },
  {
   "cell_type": "code",
   "execution_count": 2,
   "id": "f90aa125",
   "metadata": {
    "execution": {
     "iopub.execute_input": "2023-05-19T00:10:46.548608Z",
     "iopub.status.busy": "2023-05-19T00:10:46.548299Z",
     "iopub.status.idle": "2023-05-19T00:10:46.551563Z",
     "shell.execute_reply": "2023-05-19T00:10:46.551010Z"
    },
    "papermill": {
     "duration": 0.012158,
     "end_time": "2023-05-19T00:10:46.553288",
     "exception": false,
     "start_time": "2023-05-19T00:10:46.541130",
     "status": "completed"
    },
    "tags": []
   },
   "outputs": [],
   "source": [
    "import matplotlib.pyplot as plt\n"
   ]
  },
  {
   "cell_type": "code",
   "execution_count": 3,
   "id": "841e9d91",
   "metadata": {
    "execution": {
     "iopub.execute_input": "2023-05-19T00:10:46.566963Z",
     "iopub.status.busy": "2023-05-19T00:10:46.566184Z",
     "iopub.status.idle": "2023-05-19T00:10:56.559151Z",
     "shell.execute_reply": "2023-05-19T00:10:56.557843Z"
    },
    "papermill": {
     "duration": 10.002213,
     "end_time": "2023-05-19T00:10:56.561522",
     "exception": false,
     "start_time": "2023-05-19T00:10:46.559309",
     "status": "completed"
    },
    "tags": []
   },
   "outputs": [],
   "source": [
    "# Reading data\n",
    "df = pd.read_csv(\"../input/zomato-bangalore-restaurants/zomato.csv\")"
   ]
  },
  {
   "cell_type": "code",
   "execution_count": 4,
   "id": "beff2e6f",
   "metadata": {
    "execution": {
     "iopub.execute_input": "2023-05-19T00:10:56.574371Z",
     "iopub.status.busy": "2023-05-19T00:10:56.574054Z",
     "iopub.status.idle": "2023-05-19T00:10:56.607495Z",
     "shell.execute_reply": "2023-05-19T00:10:56.606616Z"
    },
    "papermill": {
     "duration": 0.042657,
     "end_time": "2023-05-19T00:10:56.609997",
     "exception": false,
     "start_time": "2023-05-19T00:10:56.567340",
     "status": "completed"
    },
    "tags": []
   },
   "outputs": [
    {
     "data": {
      "text/html": [
       "<div>\n",
       "<style scoped>\n",
       "    .dataframe tbody tr th:only-of-type {\n",
       "        vertical-align: middle;\n",
       "    }\n",
       "\n",
       "    .dataframe tbody tr th {\n",
       "        vertical-align: top;\n",
       "    }\n",
       "\n",
       "    .dataframe thead th {\n",
       "        text-align: right;\n",
       "    }\n",
       "</style>\n",
       "<table border=\"1\" class=\"dataframe\">\n",
       "  <thead>\n",
       "    <tr style=\"text-align: right;\">\n",
       "      <th></th>\n",
       "      <th>url</th>\n",
       "      <th>address</th>\n",
       "      <th>name</th>\n",
       "      <th>online_order</th>\n",
       "      <th>book_table</th>\n",
       "      <th>rate</th>\n",
       "      <th>votes</th>\n",
       "      <th>phone</th>\n",
       "      <th>location</th>\n",
       "      <th>rest_type</th>\n",
       "      <th>dish_liked</th>\n",
       "      <th>cuisines</th>\n",
       "      <th>approx_cost(for two people)</th>\n",
       "      <th>reviews_list</th>\n",
       "      <th>menu_item</th>\n",
       "      <th>listed_in(type)</th>\n",
       "      <th>listed_in(city)</th>\n",
       "    </tr>\n",
       "  </thead>\n",
       "  <tbody>\n",
       "    <tr>\n",
       "      <th>0</th>\n",
       "      <td>https://www.zomato.com/bangalore/jalsa-banasha...</td>\n",
       "      <td>942, 21st Main Road, 2nd Stage, Banashankari, ...</td>\n",
       "      <td>Jalsa</td>\n",
       "      <td>Yes</td>\n",
       "      <td>Yes</td>\n",
       "      <td>4.1/5</td>\n",
       "      <td>775</td>\n",
       "      <td>080 42297555\\r\\n+91 9743772233</td>\n",
       "      <td>Banashankari</td>\n",
       "      <td>Casual Dining</td>\n",
       "      <td>Pasta, Lunch Buffet, Masala Papad, Paneer Laja...</td>\n",
       "      <td>North Indian, Mughlai, Chinese</td>\n",
       "      <td>800</td>\n",
       "      <td>[('Rated 4.0', 'RATED\\n  A beautiful place to ...</td>\n",
       "      <td>[]</td>\n",
       "      <td>Buffet</td>\n",
       "      <td>Banashankari</td>\n",
       "    </tr>\n",
       "    <tr>\n",
       "      <th>1</th>\n",
       "      <td>https://www.zomato.com/bangalore/spice-elephan...</td>\n",
       "      <td>2nd Floor, 80 Feet Road, Near Big Bazaar, 6th ...</td>\n",
       "      <td>Spice Elephant</td>\n",
       "      <td>Yes</td>\n",
       "      <td>No</td>\n",
       "      <td>4.1/5</td>\n",
       "      <td>787</td>\n",
       "      <td>080 41714161</td>\n",
       "      <td>Banashankari</td>\n",
       "      <td>Casual Dining</td>\n",
       "      <td>Momos, Lunch Buffet, Chocolate Nirvana, Thai G...</td>\n",
       "      <td>Chinese, North Indian, Thai</td>\n",
       "      <td>800</td>\n",
       "      <td>[('Rated 4.0', 'RATED\\n  Had been here for din...</td>\n",
       "      <td>[]</td>\n",
       "      <td>Buffet</td>\n",
       "      <td>Banashankari</td>\n",
       "    </tr>\n",
       "    <tr>\n",
       "      <th>2</th>\n",
       "      <td>https://www.zomato.com/SanchurroBangalore?cont...</td>\n",
       "      <td>1112, Next to KIMS Medical College, 17th Cross...</td>\n",
       "      <td>San Churro Cafe</td>\n",
       "      <td>Yes</td>\n",
       "      <td>No</td>\n",
       "      <td>3.8/5</td>\n",
       "      <td>918</td>\n",
       "      <td>+91 9663487993</td>\n",
       "      <td>Banashankari</td>\n",
       "      <td>Cafe, Casual Dining</td>\n",
       "      <td>Churros, Cannelloni, Minestrone Soup, Hot Choc...</td>\n",
       "      <td>Cafe, Mexican, Italian</td>\n",
       "      <td>800</td>\n",
       "      <td>[('Rated 3.0', \"RATED\\n  Ambience is not that ...</td>\n",
       "      <td>[]</td>\n",
       "      <td>Buffet</td>\n",
       "      <td>Banashankari</td>\n",
       "    </tr>\n",
       "    <tr>\n",
       "      <th>3</th>\n",
       "      <td>https://www.zomato.com/bangalore/addhuri-udupi...</td>\n",
       "      <td>1st Floor, Annakuteera, 3rd Stage, Banashankar...</td>\n",
       "      <td>Addhuri Udupi Bhojana</td>\n",
       "      <td>No</td>\n",
       "      <td>No</td>\n",
       "      <td>3.7/5</td>\n",
       "      <td>88</td>\n",
       "      <td>+91 9620009302</td>\n",
       "      <td>Banashankari</td>\n",
       "      <td>Quick Bites</td>\n",
       "      <td>Masala Dosa</td>\n",
       "      <td>South Indian, North Indian</td>\n",
       "      <td>300</td>\n",
       "      <td>[('Rated 4.0', \"RATED\\n  Great food and proper...</td>\n",
       "      <td>[]</td>\n",
       "      <td>Buffet</td>\n",
       "      <td>Banashankari</td>\n",
       "    </tr>\n",
       "    <tr>\n",
       "      <th>4</th>\n",
       "      <td>https://www.zomato.com/bangalore/grand-village...</td>\n",
       "      <td>10, 3rd Floor, Lakshmi Associates, Gandhi Baza...</td>\n",
       "      <td>Grand Village</td>\n",
       "      <td>No</td>\n",
       "      <td>No</td>\n",
       "      <td>3.8/5</td>\n",
       "      <td>166</td>\n",
       "      <td>+91 8026612447\\r\\n+91 9901210005</td>\n",
       "      <td>Basavanagudi</td>\n",
       "      <td>Casual Dining</td>\n",
       "      <td>Panipuri, Gol Gappe</td>\n",
       "      <td>North Indian, Rajasthani</td>\n",
       "      <td>600</td>\n",
       "      <td>[('Rated 4.0', 'RATED\\n  Very good restaurant ...</td>\n",
       "      <td>[]</td>\n",
       "      <td>Buffet</td>\n",
       "      <td>Banashankari</td>\n",
       "    </tr>\n",
       "  </tbody>\n",
       "</table>\n",
       "</div>"
      ],
      "text/plain": [
       "                                                 url  \\\n",
       "0  https://www.zomato.com/bangalore/jalsa-banasha...   \n",
       "1  https://www.zomato.com/bangalore/spice-elephan...   \n",
       "2  https://www.zomato.com/SanchurroBangalore?cont...   \n",
       "3  https://www.zomato.com/bangalore/addhuri-udupi...   \n",
       "4  https://www.zomato.com/bangalore/grand-village...   \n",
       "\n",
       "                                             address                   name  \\\n",
       "0  942, 21st Main Road, 2nd Stage, Banashankari, ...                  Jalsa   \n",
       "1  2nd Floor, 80 Feet Road, Near Big Bazaar, 6th ...         Spice Elephant   \n",
       "2  1112, Next to KIMS Medical College, 17th Cross...        San Churro Cafe   \n",
       "3  1st Floor, Annakuteera, 3rd Stage, Banashankar...  Addhuri Udupi Bhojana   \n",
       "4  10, 3rd Floor, Lakshmi Associates, Gandhi Baza...          Grand Village   \n",
       "\n",
       "  online_order book_table   rate  votes                             phone  \\\n",
       "0          Yes        Yes  4.1/5    775    080 42297555\\r\\n+91 9743772233   \n",
       "1          Yes         No  4.1/5    787                      080 41714161   \n",
       "2          Yes         No  3.8/5    918                    +91 9663487993   \n",
       "3           No         No  3.7/5     88                    +91 9620009302   \n",
       "4           No         No  3.8/5    166  +91 8026612447\\r\\n+91 9901210005   \n",
       "\n",
       "       location            rest_type  \\\n",
       "0  Banashankari        Casual Dining   \n",
       "1  Banashankari        Casual Dining   \n",
       "2  Banashankari  Cafe, Casual Dining   \n",
       "3  Banashankari          Quick Bites   \n",
       "4  Basavanagudi        Casual Dining   \n",
       "\n",
       "                                          dish_liked  \\\n",
       "0  Pasta, Lunch Buffet, Masala Papad, Paneer Laja...   \n",
       "1  Momos, Lunch Buffet, Chocolate Nirvana, Thai G...   \n",
       "2  Churros, Cannelloni, Minestrone Soup, Hot Choc...   \n",
       "3                                        Masala Dosa   \n",
       "4                                Panipuri, Gol Gappe   \n",
       "\n",
       "                         cuisines approx_cost(for two people)  \\\n",
       "0  North Indian, Mughlai, Chinese                         800   \n",
       "1     Chinese, North Indian, Thai                         800   \n",
       "2          Cafe, Mexican, Italian                         800   \n",
       "3      South Indian, North Indian                         300   \n",
       "4        North Indian, Rajasthani                         600   \n",
       "\n",
       "                                        reviews_list menu_item  \\\n",
       "0  [('Rated 4.0', 'RATED\\n  A beautiful place to ...        []   \n",
       "1  [('Rated 4.0', 'RATED\\n  Had been here for din...        []   \n",
       "2  [('Rated 3.0', \"RATED\\n  Ambience is not that ...        []   \n",
       "3  [('Rated 4.0', \"RATED\\n  Great food and proper...        []   \n",
       "4  [('Rated 4.0', 'RATED\\n  Very good restaurant ...        []   \n",
       "\n",
       "  listed_in(type) listed_in(city)  \n",
       "0          Buffet    Banashankari  \n",
       "1          Buffet    Banashankari  \n",
       "2          Buffet    Banashankari  \n",
       "3          Buffet    Banashankari  \n",
       "4          Buffet    Banashankari  "
      ]
     },
     "execution_count": 4,
     "metadata": {},
     "output_type": "execute_result"
    }
   ],
   "source": [
    "# Exploring data\n",
    "df.head()"
   ]
  },
  {
   "cell_type": "code",
   "execution_count": 5,
   "id": "e996452e",
   "metadata": {
    "execution": {
     "iopub.execute_input": "2023-05-19T00:10:56.624759Z",
     "iopub.status.busy": "2023-05-19T00:10:56.624205Z",
     "iopub.status.idle": "2023-05-19T00:10:56.630028Z",
     "shell.execute_reply": "2023-05-19T00:10:56.628672Z"
    },
    "papermill": {
     "duration": 0.015268,
     "end_time": "2023-05-19T00:10:56.631917",
     "exception": false,
     "start_time": "2023-05-19T00:10:56.616649",
     "status": "completed"
    },
    "tags": []
   },
   "outputs": [
    {
     "data": {
      "text/plain": [
       "Index(['url', 'address', 'name', 'online_order', 'book_table', 'rate', 'votes',\n",
       "       'phone', 'location', 'rest_type', 'dish_liked', 'cuisines',\n",
       "       'approx_cost(for two people)', 'reviews_list', 'menu_item',\n",
       "       'listed_in(type)', 'listed_in(city)'],\n",
       "      dtype='object')"
      ]
     },
     "execution_count": 5,
     "metadata": {},
     "output_type": "execute_result"
    }
   ],
   "source": [
    "# Exploring features\n",
    "df.columns"
   ]
  },
  {
   "cell_type": "code",
   "execution_count": 6,
   "id": "28cc3936",
   "metadata": {
    "execution": {
     "iopub.execute_input": "2023-05-19T00:10:56.645943Z",
     "iopub.status.busy": "2023-05-19T00:10:56.645294Z",
     "iopub.status.idle": "2023-05-19T00:10:56.650903Z",
     "shell.execute_reply": "2023-05-19T00:10:56.650003Z"
    },
    "papermill": {
     "duration": 0.014629,
     "end_time": "2023-05-19T00:10:56.652740",
     "exception": false,
     "start_time": "2023-05-19T00:10:56.638111",
     "status": "completed"
    },
    "tags": []
   },
   "outputs": [
    {
     "data": {
      "text/plain": [
       "(51717, 17)"
      ]
     },
     "execution_count": 6,
     "metadata": {},
     "output_type": "execute_result"
    }
   ],
   "source": [
    "# Exploring dimensions\n",
    "df.shape"
   ]
  },
  {
   "cell_type": "code",
   "execution_count": 7,
   "id": "705f4f46",
   "metadata": {
    "execution": {
     "iopub.execute_input": "2023-05-19T00:10:56.665848Z",
     "iopub.status.busy": "2023-05-19T00:10:56.665501Z",
     "iopub.status.idle": "2023-05-19T00:10:56.804575Z",
     "shell.execute_reply": "2023-05-19T00:10:56.803395Z"
    },
    "papermill": {
     "duration": 0.147674,
     "end_time": "2023-05-19T00:10:56.806284",
     "exception": false,
     "start_time": "2023-05-19T00:10:56.658610",
     "status": "completed"
    },
    "tags": []
   },
   "outputs": [
    {
     "name": "stdout",
     "output_type": "stream",
     "text": [
      "<class 'pandas.core.frame.DataFrame'>\n",
      "RangeIndex: 51717 entries, 0 to 51716\n",
      "Data columns (total 17 columns):\n",
      " #   Column                       Non-Null Count  Dtype \n",
      "---  ------                       --------------  ----- \n",
      " 0   url                          51717 non-null  object\n",
      " 1   address                      51717 non-null  object\n",
      " 2   name                         51717 non-null  object\n",
      " 3   online_order                 51717 non-null  object\n",
      " 4   book_table                   51717 non-null  object\n",
      " 5   rate                         43942 non-null  object\n",
      " 6   votes                        51717 non-null  int64 \n",
      " 7   phone                        50509 non-null  object\n",
      " 8   location                     51696 non-null  object\n",
      " 9   rest_type                    51490 non-null  object\n",
      " 10  dish_liked                   23639 non-null  object\n",
      " 11  cuisines                     51672 non-null  object\n",
      " 12  approx_cost(for two people)  51371 non-null  object\n",
      " 13  reviews_list                 51717 non-null  object\n",
      " 14  menu_item                    51717 non-null  object\n",
      " 15  listed_in(type)              51717 non-null  object\n",
      " 16  listed_in(city)              51717 non-null  object\n",
      "dtypes: int64(1), object(16)\n",
      "memory usage: 6.7+ MB\n"
     ]
    }
   ],
   "source": [
    "# Exploring information summary\n",
    "df.info()"
   ]
  },
  {
   "cell_type": "code",
   "execution_count": 8,
   "id": "cf4dcfd7",
   "metadata": {
    "execution": {
     "iopub.execute_input": "2023-05-19T00:10:56.819987Z",
     "iopub.status.busy": "2023-05-19T00:10:56.819618Z",
     "iopub.status.idle": "2023-05-19T00:10:56.840165Z",
     "shell.execute_reply": "2023-05-19T00:10:56.839145Z"
    },
    "papermill": {
     "duration": 0.029824,
     "end_time": "2023-05-19T00:10:56.842115",
     "exception": false,
     "start_time": "2023-05-19T00:10:56.812291",
     "status": "completed"
    },
    "tags": []
   },
   "outputs": [
    {
     "data": {
      "text/html": [
       "<div>\n",
       "<style scoped>\n",
       "    .dataframe tbody tr th:only-of-type {\n",
       "        vertical-align: middle;\n",
       "    }\n",
       "\n",
       "    .dataframe tbody tr th {\n",
       "        vertical-align: top;\n",
       "    }\n",
       "\n",
       "    .dataframe thead th {\n",
       "        text-align: right;\n",
       "    }\n",
       "</style>\n",
       "<table border=\"1\" class=\"dataframe\">\n",
       "  <thead>\n",
       "    <tr style=\"text-align: right;\">\n",
       "      <th></th>\n",
       "      <th>votes</th>\n",
       "    </tr>\n",
       "  </thead>\n",
       "  <tbody>\n",
       "    <tr>\n",
       "      <th>count</th>\n",
       "      <td>51717.000000</td>\n",
       "    </tr>\n",
       "    <tr>\n",
       "      <th>mean</th>\n",
       "      <td>283.697527</td>\n",
       "    </tr>\n",
       "    <tr>\n",
       "      <th>std</th>\n",
       "      <td>803.838853</td>\n",
       "    </tr>\n",
       "    <tr>\n",
       "      <th>min</th>\n",
       "      <td>0.000000</td>\n",
       "    </tr>\n",
       "    <tr>\n",
       "      <th>25%</th>\n",
       "      <td>7.000000</td>\n",
       "    </tr>\n",
       "    <tr>\n",
       "      <th>50%</th>\n",
       "      <td>41.000000</td>\n",
       "    </tr>\n",
       "    <tr>\n",
       "      <th>75%</th>\n",
       "      <td>198.000000</td>\n",
       "    </tr>\n",
       "    <tr>\n",
       "      <th>max</th>\n",
       "      <td>16832.000000</td>\n",
       "    </tr>\n",
       "  </tbody>\n",
       "</table>\n",
       "</div>"
      ],
      "text/plain": [
       "              votes\n",
       "count  51717.000000\n",
       "mean     283.697527\n",
       "std      803.838853\n",
       "min        0.000000\n",
       "25%        7.000000\n",
       "50%       41.000000\n",
       "75%      198.000000\n",
       "max    16832.000000"
      ]
     },
     "execution_count": 8,
     "metadata": {},
     "output_type": "execute_result"
    }
   ],
   "source": [
    "# Statistical summery\n",
    "df.describe()"
   ]
  },
  {
   "cell_type": "markdown",
   "id": "3fadf743",
   "metadata": {
    "papermill": {
     "duration": 0.00608,
     "end_time": "2023-05-19T00:10:56.854602",
     "exception": false,
     "start_time": "2023-05-19T00:10:56.848522",
     "status": "completed"
    },
    "tags": []
   },
   "source": [
    "#### Comments:\n",
    "* "
   ]
  },
  {
   "cell_type": "markdown",
   "id": "efbf1ac0",
   "metadata": {
    "papermill": {
     "duration": 0.005792,
     "end_time": "2023-05-19T00:10:56.866454",
     "exception": false,
     "start_time": "2023-05-19T00:10:56.860662",
     "status": "completed"
    },
    "tags": []
   },
   "source": [
    "### Features definition:\n",
    "\n",
    "* **url**: contains the url of the restaurant in the zomato website.\n",
    "* **address:** contains the address of the restaurant in Bengaluru.\n",
    "* **name:** contains the name of the restaurant.\n",
    "* **online-order:** whether online ordering is available in the restaurant or not.\n",
    "* **book-table:** table book option available or not.\n",
    "* **rate:** contains the overall rating of the restaurant out of 5.\n",
    "* **votes:** contains total number of rating for the restaurant as of the above mentioned date.\n",
    "* **phone:** contains the phone number of the restaurant.\n",
    "* **location:** contains the neighborhood in which the restaurant is located.\n",
    "* **rest-type:** restaurant type.\n",
    "* **dish_liked:** dishes people liked in the restaurant\n",
    "* **cuisines:** food styles, separated by comma\n",
    "* **approx_cost(for two people):** contains the approximate cost for meal for two people\n",
    "* **reviews_list:** of tuples containing reviews for the restaurant, each tuple\n",
    "* **menu_item:** contains list of menus available in the restaurant\n",
    "* **listed_in(type):** type of meal\n",
    "* **listed_in(city):** contains the neighborhood in which the restaurant is listed\n"
   ]
  },
  {
   "cell_type": "markdown",
   "id": "ef45bd55",
   "metadata": {
    "papermill": {
     "duration": 0.005852,
     "end_time": "2023-05-19T00:10:56.878225",
     "exception": false,
     "start_time": "2023-05-19T00:10:56.872373",
     "status": "completed"
    },
    "tags": []
   },
   "source": [
    "## Data Preprocessing:"
   ]
  },
  {
   "cell_type": "code",
   "execution_count": 9,
   "id": "caaf2e14",
   "metadata": {
    "execution": {
     "iopub.execute_input": "2023-05-19T00:10:56.891893Z",
     "iopub.status.busy": "2023-05-19T00:10:56.891521Z",
     "iopub.status.idle": "2023-05-19T00:10:57.013824Z",
     "shell.execute_reply": "2023-05-19T00:10:57.012916Z"
    },
    "papermill": {
     "duration": 0.131451,
     "end_time": "2023-05-19T00:10:57.015614",
     "exception": false,
     "start_time": "2023-05-19T00:10:56.884163",
     "status": "completed"
    },
    "tags": []
   },
   "outputs": [
    {
     "data": {
      "text/plain": [
       "url                                0\n",
       "address                            0\n",
       "name                               0\n",
       "online_order                       0\n",
       "book_table                         0\n",
       "rate                            7775\n",
       "votes                              0\n",
       "phone                           1208\n",
       "location                          21\n",
       "rest_type                        227\n",
       "dish_liked                     28078\n",
       "cuisines                          45\n",
       "approx_cost(for two people)      346\n",
       "reviews_list                       0\n",
       "menu_item                          0\n",
       "listed_in(type)                    0\n",
       "listed_in(city)                    0\n",
       "dtype: int64"
      ]
     },
     "execution_count": 9,
     "metadata": {},
     "output_type": "execute_result"
    }
   ],
   "source": [
    "# check for nulls\n",
    "df.isnull().sum()"
   ]
  },
  {
   "cell_type": "code",
   "execution_count": 10,
   "id": "590800b1",
   "metadata": {
    "execution": {
     "iopub.execute_input": "2023-05-19T00:10:57.029943Z",
     "iopub.status.busy": "2023-05-19T00:10:57.029642Z",
     "iopub.status.idle": "2023-05-19T00:10:57.269649Z",
     "shell.execute_reply": "2023-05-19T00:10:57.268370Z"
    },
    "papermill": {
     "duration": 0.249154,
     "end_time": "2023-05-19T00:10:57.271565",
     "exception": false,
     "start_time": "2023-05-19T00:10:57.022411",
     "status": "completed"
    },
    "tags": []
   },
   "outputs": [
    {
     "name": "stdout",
     "output_type": "stream",
     "text": [
      "Percentage NaN values in df:\n"
     ]
    },
    {
     "data": {
      "text/plain": [
       "url                             0.00\n",
       "address                         0.00\n",
       "name                            0.00\n",
       "online_order                    0.00\n",
       "book_table                      0.00\n",
       "rate                           15.03\n",
       "votes                           0.00\n",
       "phone                           2.34\n",
       "location                        0.04\n",
       "rest_type                       0.44\n",
       "dish_liked                     54.29\n",
       "cuisines                        0.09\n",
       "approx_cost(for two people)     0.67\n",
       "reviews_list                    0.00\n",
       "menu_item                       0.00\n",
       "listed_in(type)                 0.00\n",
       "listed_in(city)                 0.00\n",
       "dtype: float64"
      ]
     },
     "execution_count": 10,
     "metadata": {},
     "output_type": "execute_result"
    }
   ],
   "source": [
    "# Nulls percentage\n",
    "print(\"Percentage NaN values in df:\")\n",
    "((df.isnull() | df.isna()).sum() * 100 / df.index.size).round(2)"
   ]
  },
  {
   "cell_type": "code",
   "execution_count": 11,
   "id": "2b83baeb",
   "metadata": {
    "execution": {
     "iopub.execute_input": "2023-05-19T00:10:57.286706Z",
     "iopub.status.busy": "2023-05-19T00:10:57.286381Z",
     "iopub.status.idle": "2023-05-19T00:10:58.726661Z",
     "shell.execute_reply": "2023-05-19T00:10:58.725448Z"
    },
    "papermill": {
     "duration": 1.450408,
     "end_time": "2023-05-19T00:10:58.728800",
     "exception": false,
     "start_time": "2023-05-19T00:10:57.278392",
     "status": "completed"
    },
    "tags": []
   },
   "outputs": [
    {
     "data": {
      "text/plain": [
       "0"
      ]
     },
     "execution_count": 11,
     "metadata": {},
     "output_type": "execute_result"
    }
   ],
   "source": [
    "#Check for Duplicates\n",
    "df.duplicated().sum()"
   ]
  },
  {
   "cell_type": "markdown",
   "id": "ecedc54b",
   "metadata": {
    "papermill": {
     "duration": 0.006362,
     "end_time": "2023-05-19T00:10:58.742140",
     "exception": false,
     "start_time": "2023-05-19T00:10:58.735778",
     "status": "completed"
    },
    "tags": []
   },
   "source": [
    "- Although there is no dublicated data but there aren't 51k restaurants in Bengaluru. \n",
    "- **Then, How 51K (51k different link for each restaurant) restaurants were listed in the zomato website?**\n",
    "\n",
    "- **The Answer is:** the data set was scraped individually for each category. Ex.: Buffet, dineout, pubs, bars, delivery, nightlife, etc. so it may have happened a restaurant was mentioned in more than one category."
   ]
  },
  {
   "cell_type": "markdown",
   "id": "712a8509",
   "metadata": {
    "papermill": {
     "duration": 0.006338,
     "end_time": "2023-05-19T00:10:58.755316",
     "exception": false,
     "start_time": "2023-05-19T00:10:58.748978",
     "status": "completed"
    },
    "tags": []
   },
   "source": [
    "### Univariate Analysis"
   ]
  },
  {
   "cell_type": "code",
   "execution_count": 12,
   "id": "70fb8449",
   "metadata": {
    "execution": {
     "iopub.execute_input": "2023-05-19T00:10:58.770836Z",
     "iopub.status.busy": "2023-05-19T00:10:58.769940Z",
     "iopub.status.idle": "2023-05-19T00:10:58.784333Z",
     "shell.execute_reply": "2023-05-19T00:10:58.783158Z"
    },
    "papermill": {
     "duration": 0.02433,
     "end_time": "2023-05-19T00:10:58.786113",
     "exception": false,
     "start_time": "2023-05-19T00:10:58.761783",
     "status": "completed"
    },
    "tags": []
   },
   "outputs": [
    {
     "name": "stdout",
     "output_type": "stream",
     "text": [
      "Total number of observations = 51717\n",
      "Total number of unique resturant names = 8792\n",
      "Total number of dublicated resturants names = 42925\n",
      "Are the total sum of both unique resturant names and dublicated names equal to total sum of observations ? True\n"
     ]
    }
   ],
   "source": [
    "# Number of repeated restaurants observations in different category features \n",
    "dub_res = df.duplicated(subset='name').sum()\n",
    "# Number of resturants\n",
    "uni_res = df.name.unique().size\n",
    "# total number of obsercations\n",
    "total_obs= df.shape[0]\n",
    "print(\"Total number of observations =\", total_obs)\n",
    "print(\"Total number of unique resturant names =\", uni_res)\n",
    "print(\"Total number of dublicated resturants names =\", dub_res)\n",
    "# validate observations\n",
    "print(\"Are the total sum of both unique resturant names and dublicated names equal to total sum of observations ?\",\n",
    "      dub_res + uni_res == total_obs)"
   ]
  },
  {
   "cell_type": "code",
   "execution_count": 13,
   "id": "4a2da500",
   "metadata": {
    "execution": {
     "iopub.execute_input": "2023-05-19T00:10:58.801490Z",
     "iopub.status.busy": "2023-05-19T00:10:58.800572Z",
     "iopub.status.idle": "2023-05-19T00:10:58.810247Z",
     "shell.execute_reply": "2023-05-19T00:10:58.809235Z"
    },
    "papermill": {
     "duration": 0.018967,
     "end_time": "2023-05-19T00:10:58.811964",
     "exception": false,
     "start_time": "2023-05-19T00:10:58.792997",
     "status": "completed"
    },
    "tags": []
   },
   "outputs": [
    {
     "data": {
      "text/plain": [
       "Yes    30444\n",
       "No     21273\n",
       "Name: online_order, dtype: int64"
      ]
     },
     "execution_count": 13,
     "metadata": {},
     "output_type": "execute_result"
    }
   ],
   "source": [
    "df.online_order.value_counts()"
   ]
  },
  {
   "cell_type": "code",
   "execution_count": 14,
   "id": "18e54bed",
   "metadata": {
    "execution": {
     "iopub.execute_input": "2023-05-19T00:10:58.827740Z",
     "iopub.status.busy": "2023-05-19T00:10:58.826866Z",
     "iopub.status.idle": "2023-05-19T00:10:59.038935Z",
     "shell.execute_reply": "2023-05-19T00:10:59.038123Z"
    },
    "papermill": {
     "duration": 0.221826,
     "end_time": "2023-05-19T00:10:59.040912",
     "exception": false,
     "start_time": "2023-05-19T00:10:58.819086",
     "status": "completed"
    },
    "tags": []
   },
   "outputs": [
    {
     "data": {
      "image/png": "[encoded data removed]",
      "text/plain": [
       "<Figure size 640x480 with 1 Axes>"
      ]
     },
     "metadata": {},
     "output_type": "display_data"
    }
   ],
   "source": [
    "# Exploring features: online_order\n",
    "df.online_order.value_counts().plot(kind='pie',labels= ['Available', 'Not Available'],  shadow=True, autopct='%1.2f%%')\n",
    "plt.title('Online Ordering Avilablility')\n",
    "plt.axis('equal')\n",
    "plt.show();"
   ]
  },
  {
   "cell_type": "code",
   "execution_count": 15,
   "id": "b7b4e474",
   "metadata": {
    "execution": {
     "iopub.execute_input": "2023-05-19T00:10:59.060908Z",
     "iopub.status.busy": "2023-05-19T00:10:59.060557Z",
     "iopub.status.idle": "2023-05-19T00:10:59.071873Z",
     "shell.execute_reply": "2023-05-19T00:10:59.071027Z"
    },
    "papermill": {
     "duration": 0.024582,
     "end_time": "2023-05-19T00:10:59.074827",
     "exception": false,
     "start_time": "2023-05-19T00:10:59.050245",
     "status": "completed"
    },
    "tags": []
   },
   "outputs": [
    {
     "data": {
      "text/plain": [
       "No     45268\n",
       "Yes     6449\n",
       "Name: book_table, dtype: int64"
      ]
     },
     "execution_count": 15,
     "metadata": {},
     "output_type": "execute_result"
    }
   ],
   "source": [
    "df.book_table.value_counts()"
   ]
  },
  {
   "cell_type": "code",
   "execution_count": 16,
   "id": "38669e1d",
   "metadata": {
    "execution": {
     "iopub.execute_input": "2023-05-19T00:10:59.096442Z",
     "iopub.status.busy": "2023-05-19T00:10:59.095718Z",
     "iopub.status.idle": "2023-05-19T00:10:59.233857Z",
     "shell.execute_reply": "2023-05-19T00:10:59.233108Z"
    },
    "papermill": {
     "duration": 0.151395,
     "end_time": "2023-05-19T00:10:59.235863",
     "exception": false,
     "start_time": "2023-05-19T00:10:59.084468",
     "status": "completed"
    },
    "tags": []
   },
   "outputs": [
    {
     "data": {
      "image/png": "[encoded data removed]",
      "text/plain": [
       "<Figure size 640x480 with 1 Axes>"
      ]
     },
     "metadata": {},
     "output_type": "display_data"
    }
   ],
   "source": [
    "# Exploring features: book_table\n",
    "df.book_table.value_counts().plot(kind='pie',labels= ['Available', 'Not Available'],  shadow=True, autopct='%1.2f%%')\n",
    "plt.title(' Book a Table Avilablility')\n",
    "plt.axis('equal')\n",
    "plt.show();"
   ]
  },
  {
   "cell_type": "code",
   "execution_count": 17,
   "id": "d774b16e",
   "metadata": {
    "execution": {
     "iopub.execute_input": "2023-05-19T00:10:59.258326Z",
     "iopub.status.busy": "2023-05-19T00:10:59.257720Z",
     "iopub.status.idle": "2023-05-19T00:10:59.265834Z",
     "shell.execute_reply": "2023-05-19T00:10:59.265133Z"
    },
    "papermill": {
     "duration": 0.021378,
     "end_time": "2023-05-19T00:10:59.267637",
     "exception": false,
     "start_time": "2023-05-19T00:10:59.246259",
     "status": "completed"
    },
    "tags": []
   },
   "outputs": [
    {
     "data": {
      "text/plain": [
       "array(['4.1/5', '3.8/5', '3.7/5', '3.6/5', '4.6/5', '4.0/5', '4.2/5',\n",
       "       '3.9/5', '3.1/5', '3.0/5', '3.2/5', '3.3/5', '2.8/5', '4.4/5',\n",
       "       '4.3/5', 'NEW', '2.9/5', '3.5/5', nan, '2.6/5', '3.8 /5', '3.4/5',\n",
       "       '4.5/5', '2.5/5', '2.7/5', '4.7/5', '2.4/5', '2.2/5', '2.3/5',\n",
       "       '3.4 /5', '-', '3.6 /5', '4.8/5', '3.9 /5', '4.2 /5', '4.0 /5',\n",
       "       '4.1 /5', '3.7 /5', '3.1 /5', '2.9 /5', '3.3 /5', '2.8 /5',\n",
       "       '3.5 /5', '2.7 /5', '2.5 /5', '3.2 /5', '2.6 /5', '4.5 /5',\n",
       "       '4.3 /5', '4.4 /5', '4.9/5', '2.1/5', '2.0/5', '1.8/5', '4.6 /5',\n",
       "       '4.9 /5', '3.0 /5', '4.8 /5', '2.3 /5', '4.7 /5', '2.4 /5',\n",
       "       '2.1 /5', '2.2 /5', '2.0 /5', '1.8 /5'], dtype=object)"
      ]
     },
     "execution_count": 17,
     "metadata": {},
     "output_type": "execute_result"
    }
   ],
   "source": [
    "df.rate.unique()"
   ]
  },
  {
   "cell_type": "code",
   "execution_count": 18,
   "id": "d717e4a7",
   "metadata": {
    "execution": {
     "iopub.execute_input": "2023-05-19T00:10:59.291136Z",
     "iopub.status.busy": "2023-05-19T00:10:59.290506Z",
     "iopub.status.idle": "2023-05-19T00:10:59.294567Z",
     "shell.execute_reply": "2023-05-19T00:10:59.293896Z"
    },
    "papermill": {
     "duration": 0.017743,
     "end_time": "2023-05-19T00:10:59.296364",
     "exception": false,
     "start_time": "2023-05-19T00:10:59.278621",
     "status": "completed"
    },
    "tags": []
   },
   "outputs": [],
   "source": [
    "pd.set_option(\"display.max_rows\", None)"
   ]
  },
  {
   "cell_type": "code",
   "execution_count": 19,
   "id": "f033c6d3",
   "metadata": {
    "execution": {
     "iopub.execute_input": "2023-05-19T00:10:59.317334Z",
     "iopub.status.busy": "2023-05-19T00:10:59.316760Z",
     "iopub.status.idle": "2023-05-19T00:10:59.327530Z",
     "shell.execute_reply": "2023-05-19T00:10:59.326880Z"
    },
    "papermill": {
     "duration": 0.023006,
     "end_time": "2023-05-19T00:10:59.329509",
     "exception": false,
     "start_time": "2023-05-19T00:10:59.306503",
     "status": "completed"
    },
    "tags": []
   },
   "outputs": [
    {
     "data": {
      "text/plain": [
       "NaN       7775\n",
       "NEW       2208\n",
       "3.9/5     2098\n",
       "3.8/5     2022\n",
       "3.7/5     2011\n",
       "3.9 /5    1874\n",
       "3.8 /5    1851\n",
       "3.7 /5    1810\n",
       "3.6/5     1773\n",
       "4.0/5     1609\n",
       "4.0 /5    1574\n",
       "3.6 /5    1543\n",
       "4.1/5     1474\n",
       "4.1 /5    1474\n",
       "3.5/5     1431\n",
       "3.5 /5    1353\n",
       "3.4/5     1259\n",
       "3.4 /5    1217\n",
       "3.3/5     1168\n",
       "4.2 /5    1165\n",
       "3.3 /5    1142\n",
       "4.2/5     1019\n",
       "3.2/5     1006\n",
       "4.3 /5     917\n",
       "3.2 /5     867\n",
       "3.1/5      862\n",
       "4.3/5      776\n",
       "3.1 /5     699\n",
       "4.4 /5     628\n",
       "3.0/5      558\n",
       "4.4/5      519\n",
       "3.0 /5     465\n",
       "2.9/5      427\n",
       "4.5 /5     409\n",
       "2.9 /5     375\n",
       "2.8/5      313\n",
       "2.8 /5     287\n",
       "4.5/5      247\n",
       "4.6 /5     175\n",
       "2.7/5      170\n",
       "2.6/5      143\n",
       "2.7 /5     137\n",
       "4.6/5      125\n",
       "2.6 /5     117\n",
       "4.7 /5      86\n",
       "4.7/5       81\n",
       "-           69\n",
       "2.5 /5      56\n",
       "2.5/5       45\n",
       "4.8 /5      43\n",
       "2.4/5       40\n",
       "4.9 /5      30\n",
       "2.4 /5      30\n",
       "2.3/5       28\n",
       "4.9/5       25\n",
       "2.3 /5      23\n",
       "4.8/5       23\n",
       "2.2/5       19\n",
       "2.1 /5      13\n",
       "2.1/5       11\n",
       "2.2 /5       7\n",
       "2.0 /5       7\n",
       "2.0/5        4\n",
       "1.8 /5       3\n",
       "1.8/5        2\n",
       "Name: rate, dtype: int64"
      ]
     },
     "execution_count": 19,
     "metadata": {},
     "output_type": "execute_result"
    }
   ],
   "source": [
    "df.rate.value_counts(dropna=False)"
   ]
  },
  {
   "cell_type": "code",
   "execution_count": 20,
   "id": "fbac3bc8",
   "metadata": {
    "execution": {
     "iopub.execute_input": "2023-05-19T00:10:59.347088Z",
     "iopub.status.busy": "2023-05-19T00:10:59.346766Z",
     "iopub.status.idle": "2023-05-19T00:10:59.375884Z",
     "shell.execute_reply": "2023-05-19T00:10:59.374828Z"
    },
    "papermill": {
     "duration": 0.04028,
     "end_time": "2023-05-19T00:10:59.378108",
     "exception": false,
     "start_time": "2023-05-19T00:10:59.337828",
     "status": "completed"
    },
    "tags": []
   },
   "outputs": [],
   "source": [
    "df['rate'] = df.rate.str.replace(' ', '').replace(\"NEW\",np.NaN).replace(\"-\", np.NaN)"
   ]
  },
  {
   "cell_type": "code",
   "execution_count": 21,
   "id": "cb6f0bd0",
   "metadata": {
    "execution": {
     "iopub.execute_input": "2023-05-19T00:10:59.396567Z",
     "iopub.status.busy": "2023-05-19T00:10:59.396071Z",
     "iopub.status.idle": "2023-05-19T00:10:59.404738Z",
     "shell.execute_reply": "2023-05-19T00:10:59.403881Z"
    },
    "papermill": {
     "duration": 0.019889,
     "end_time": "2023-05-19T00:10:59.406352",
     "exception": false,
     "start_time": "2023-05-19T00:10:59.386463",
     "status": "completed"
    },
    "tags": []
   },
   "outputs": [
    {
     "data": {
      "text/plain": [
       "NaN      10052\n",
       "3.9/5     3972\n",
       "3.8/5     3873\n",
       "3.7/5     3821\n",
       "3.6/5     3316\n",
       "4.0/5     3183\n",
       "4.1/5     2948\n",
       "3.5/5     2784\n",
       "3.4/5     2476\n",
       "3.3/5     2310\n",
       "4.2/5     2184\n",
       "3.2/5     1873\n",
       "4.3/5     1693\n",
       "3.1/5     1561\n",
       "4.4/5     1147\n",
       "3.0/5     1023\n",
       "2.9/5      802\n",
       "4.5/5      656\n",
       "2.8/5      600\n",
       "2.7/5      307\n",
       "4.6/5      300\n",
       "2.6/5      260\n",
       "4.7/5      167\n",
       "2.5/5      101\n",
       "2.4/5       70\n",
       "4.8/5       66\n",
       "4.9/5       55\n",
       "2.3/5       51\n",
       "2.2/5       26\n",
       "2.1/5       24\n",
       "2.0/5       11\n",
       "1.8/5        5\n",
       "Name: rate, dtype: int64"
      ]
     },
     "execution_count": 21,
     "metadata": {},
     "output_type": "execute_result"
    }
   ],
   "source": [
    "df.rate.value_counts(dropna=False)"
   ]
  },
  {
   "cell_type": "code",
   "execution_count": 22,
   "id": "f5240667",
   "metadata": {
    "execution": {
     "iopub.execute_input": "2023-05-19T00:10:59.424311Z",
     "iopub.status.busy": "2023-05-19T00:10:59.423792Z",
     "iopub.status.idle": "2023-05-19T00:10:59.431339Z",
     "shell.execute_reply": "2023-05-19T00:10:59.430710Z"
    },
    "papermill": {
     "duration": 0.018444,
     "end_time": "2023-05-19T00:10:59.432984",
     "exception": false,
     "start_time": "2023-05-19T00:10:59.414540",
     "status": "completed"
    },
    "tags": []
   },
   "outputs": [
    {
     "data": {
      "text/plain": [
       "10052"
      ]
     },
     "execution_count": 22,
     "metadata": {},
     "output_type": "execute_result"
    }
   ],
   "source": [
    "df.rate.isnull().sum()"
   ]
  },
  {
   "cell_type": "code",
   "execution_count": 23,
   "id": "7c5d2e46",
   "metadata": {
    "execution": {
     "iopub.execute_input": "2023-05-19T00:10:59.451560Z",
     "iopub.status.busy": "2023-05-19T00:10:59.451222Z",
     "iopub.status.idle": "2023-05-19T00:10:59.460417Z",
     "shell.execute_reply": "2023-05-19T00:10:59.459515Z"
    },
    "papermill": {
     "duration": 0.020991,
     "end_time": "2023-05-19T00:10:59.462325",
     "exception": false,
     "start_time": "2023-05-19T00:10:59.441334",
     "status": "completed"
    },
    "tags": []
   },
   "outputs": [
    {
     "data": {
      "text/plain": [
       "19.44"
      ]
     },
     "execution_count": 23,
     "metadata": {},
     "output_type": "execute_result"
    }
   ],
   "source": [
    "(df.rate.isna().sum() * 100 / df.index.size).round(2)"
   ]
  },
  {
   "cell_type": "code",
   "execution_count": null,
   "id": "4689929c",
   "metadata": {
    "papermill": {
     "duration": 0.008388,
     "end_time": "2023-05-19T00:10:59.479259",
     "exception": false,
     "start_time": "2023-05-19T00:10:59.470871",
     "status": "completed"
    },
    "tags": []
   },
   "outputs": [],
   "source": []
  }
 ],
 "metadata": {
  "kernelspec": {
   "display_name": "Python 3",
   "language": "python",
   "name": "python3"
  },
  "language_info": {
   "codemirror_mode": {
    "name": "ipython",
    "version": 3
   },
   "file_extension": ".py",
   "mimetype": "text/x-python",
   "name": "python",
   "nbconvert_exporter": "python",
   "pygments_lexer": "ipython3",
   "version": "3.10.10"
  },
  "papermill": {
   "default_parameters": {},
   "duration": 22.800352,
   "end_time": "2023-05-19T00:11:00.309816",
   "environment_variables": {},
   "exception": null,
   "input_path": "__notebook__.ipynb",
   "output_path": "__notebook__.ipynb",
   "parameters": {},
   "start_time": "2023-05-19T00:10:37.509464",
   "version": "2.4.0"
  }
 },
 "nbformat": 4,
 "nbformat_minor": 5
}
